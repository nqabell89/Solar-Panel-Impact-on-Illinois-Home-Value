{
 "cells": [
  {
   "cell_type": "markdown",
   "metadata": {},
   "source": [
    "# Should Illinois Developers or Home Owners Install Solar Panel Systems?\n",
    "This research project intends to provide both home builders and renovators in the state of Illinois with statistical analysis of the economic impact of building homes with solar panel systems, or adding solar panels to existing homes."
   ]
  },
  {
   "cell_type": "code",
   "execution_count": 102,
   "metadata": {},
   "outputs": [],
   "source": [
    "import numpy as np\n",
    "import matplotlib.pyplot as plt\n",
    "%matplotlib inline\n",
    "import pandas as pd\n",
    "import seaborn as sns\n",
    "import random\n",
    "import pickle\n",
    "import statsmodels.api as sm\n",
    "from scipy import stats\n",
    "import warnings\n",
    "warnings.filterwarnings(\"ignore\")"
   ]
  },
  {
   "cell_type": "code",
   "execution_count": 103,
   "metadata": {},
   "outputs": [],
   "source": [
    "with_df = pd.read_pickle(\"./with_df.pkl\")\n",
    "without_df = pd.read_pickle(\"./witho_df.pkl\")\n",
    "population_df = with_df.append(without_df, ignore_index=True)"
   ]
  },
  {
   "cell_type": "code",
   "execution_count": 104,
   "metadata": {},
   "outputs": [
    {
     "data": {
      "text/html": [
       "<div>\n",
       "<style scoped>\n",
       "    .dataframe tbody tr th:only-of-type {\n",
       "        vertical-align: middle;\n",
       "    }\n",
       "\n",
       "    .dataframe tbody tr th {\n",
       "        vertical-align: top;\n",
       "    }\n",
       "\n",
       "    .dataframe thead th {\n",
       "        text-align: right;\n",
       "    }\n",
       "</style>\n",
       "<table border=\"1\" class=\"dataframe\">\n",
       "  <thead>\n",
       "    <tr style=\"text-align: right;\">\n",
       "      <th></th>\n",
       "      <th>% SP:OLP</th>\n",
       "      <th>City</th>\n",
       "      <th>Green Features</th>\n",
       "      <th>List Price</th>\n",
       "      <th>MLS #</th>\n",
       "      <th>MT</th>\n",
       "      <th>New</th>\n",
       "      <th>New Const</th>\n",
       "      <th>Remarks</th>\n",
       "      <th>Sold Pr</th>\n",
       "    </tr>\n",
       "  </thead>\n",
       "  <tbody>\n",
       "    <tr>\n",
       "      <td>0</td>\n",
       "      <td>92</td>\n",
       "      <td>Champaign</td>\n",
       "      <td>NaN</td>\n",
       "      <td>129900</td>\n",
       "      <td>9639898</td>\n",
       "      <td>319.0</td>\n",
       "      <td>0</td>\n",
       "      <td>No</td>\n",
       "      <td>Wonderful home on double lot in south Champaig...</td>\n",
       "      <td>124000</td>\n",
       "    </tr>\n",
       "  </tbody>\n",
       "</table>\n",
       "</div>"
      ],
      "text/plain": [
       "   % SP:OLP       City Green Features  List Price    MLS #     MT  New  \\\n",
       "0        92  Champaign            NaN      129900  9639898  319.0    0   \n",
       "\n",
       "  New Const                                            Remarks  Sold Pr  \n",
       "0        No  Wonderful home on double lot in south Champaig...   124000  "
      ]
     },
     "execution_count": 104,
     "metadata": {},
     "output_type": "execute_result"
    }
   ],
   "source": [
    "population_df.head(1)"
   ]
  },
  {
   "cell_type": "code",
   "execution_count": 105,
   "metadata": {},
   "outputs": [
    {
     "name": "stdout",
     "output_type": "stream",
     "text": [
      "(57, 10)\n",
      "(2998, 10)\n",
      "(3055, 10)\n"
     ]
    }
   ],
   "source": [
    "print(with_df.shape)\n",
    "print(without_df.shape)\n",
    "print(population_df.shape)"
   ]
  },
  {
   "cell_type": "markdown",
   "metadata": {},
   "source": [
    "## Hypothesis 1: New and existing homes with solar panel systems have a higher value on average compared to homes without.\n",
    "This first test is to compare the average sale price of a subset of new and existing home sales that have solar panel systems, with the average sale price of homes that do not."
   ]
  },
  {
   "cell_type": "markdown",
   "metadata": {},
   "source": [
    "$$\\large H_0\\text{:   }\\bar{x} \\leq \\mu$$\n",
    "$$\\large H_a\\text{:   }\\bar{x} > \\mu$$"
   ]
  },
  {
   "cell_type": "code",
   "execution_count": 106,
   "metadata": {},
   "outputs": [],
   "source": [
    "#population mean, var, and std\n",
    "pop_mean = round(population_df['Sold Pr'].mean(), ndigits=2)\n",
    "pop_var = round(population_df['Sold Pr'].var(), ndigits=2)\n",
    "pop_std = round(population_df['Sold Pr'].std(), ndigits=2)"
   ]
  },
  {
   "cell_type": "code",
   "execution_count": 107,
   "metadata": {},
   "outputs": [
    {
     "name": "stdout",
     "output_type": "stream",
     "text": [
      "Population Mean: 323419.6\n",
      "Population Variance: 35524966851.03\n",
      "Population Standard Deviation: 188480.68\n"
     ]
    }
   ],
   "source": [
    "print(f'Population Mean: {pop_mean}')\n",
    "print(f'Population Variance: {pop_var}')\n",
    "print(f'Population Standard Deviation: {pop_std}')"
   ]
  },
  {
   "cell_type": "code",
   "execution_count": 108,
   "metadata": {},
   "outputs": [],
   "source": [
    "#population mean, var, and std\n",
    "sol_mean = round(with_df['Sold Pr'].mean(), ndigits=2)\n",
    "sol_var = round(with_df['Sold Pr'].var(), ndigits=2)\n",
    "sol_std = round(with_df['Sold Pr'].std(), ndigits=2)"
   ]
  },
  {
   "cell_type": "code",
   "execution_count": 109,
   "metadata": {},
   "outputs": [
    {
     "name": "stdout",
     "output_type": "stream",
     "text": [
      "Solar Mean: 417916.28\n",
      "Solar Variance: 45801253328.96\n",
      "Solar Standard Deviation: 214012.27\n"
     ]
    }
   ],
   "source": [
    "print(f'Solar Mean: {sol_mean}')\n",
    "print(f'Solar Variance: {sol_var}')\n",
    "print(f'Solar Standard Deviation: {sol_std}')"
   ]
  },
  {
   "cell_type": "markdown",
   "metadata": {},
   "source": [
    "### Left-Tail Z-Test"
   ]
  },
  {
   "cell_type": "code",
   "execution_count": 110,
   "metadata": {},
   "outputs": [
    {
     "name": "stdout",
     "output_type": "stream",
     "text": [
      "Z Score: 3.7851852438284985\n"
     ]
    }
   ],
   "source": [
    "z = (sol_mean-pop_mean)/(pop_std/np.sqrt(57))\n",
    "print(f'Z Score: {z}')"
   ]
  },
  {
   "cell_type": "code",
   "execution_count": 111,
   "metadata": {},
   "outputs": [
    {
     "name": "stdout",
     "output_type": "stream",
     "text": [
      "7.679706219776428e-05\n"
     ]
    }
   ],
   "source": [
    "p_value = 1 - stats.norm.cdf(z)\n",
    "alpha = 0.05\n",
    "print(p_value)"
   ]
  },
  {
   "cell_type": "code",
   "execution_count": 112,
   "metadata": {},
   "outputs": [
    {
     "data": {
      "image/png": "[encoded data removed]",
      "text/plain": [
       "<Figure size 432x288 with 1 Axes>"
      ]
     },
     "metadata": {
      "needs_background": "light"
     },
     "output_type": "display_data"
    }
   ],
   "source": [
    "sns.distplot(population_df['Sold Pr'], bins=100)\n",
    "plt.axvline(x=pop_mean, color='red')\n",
    "plt.title(\"Population Distribution: Sale Price of Illinois Homes\")\n",
    "plt.xlabel('Dollars($)')\n",
    "plt.ylabel('Frequency')\n",
    "plt.plot()\n",
    "plt.show()\n"
   ]
  },
  {
   "cell_type": "markdown",
   "metadata": {},
   "source": [
    "### CLT Distribution"
   ]
  },
  {
   "cell_type": "code",
   "execution_count": 113,
   "metadata": {},
   "outputs": [],
   "source": [
    "sample_means = []\n",
    "for _ in range(1000):\n",
    "    sample_means.append(round(np.random.choice(population_df['Sold Pr'], size=57).mean(), ndigits=2))"
   ]
  },
  {
   "cell_type": "code",
   "execution_count": 114,
   "metadata": {},
   "outputs": [
    {
     "data": {
      "image/png": "[encoded data removed]",
      "text/plain": [
       "<Figure size 432x288 with 1 Axes>"
      ]
     },
     "metadata": {
      "needs_background": "light"
     },
     "output_type": "display_data"
    }
   ],
   "source": [
    "sns.distplot(sample_means, bins=20)\n",
    "plt.axvline(x=np.mean(sample_means), color='red')\n",
    "plt.axvline(x=sol_mean, color='green')\n",
    "plt.title(\"Sampling Distribution of Mean Sale Price of Illinois Homes\")\n",
    "plt.xlabel('Dollars($)')\n",
    "plt.ylabel('Frequency')\n",
    "\n",
    "plt.plot()\n",
    "plt.show()"
   ]
  },
  {
   "cell_type": "code",
   "execution_count": 115,
   "metadata": {},
   "outputs": [
    {
     "data": {
      "image/png": "[encoded data removed]",
      "text/plain": [
       "<Figure size 432x288 with 1 Axes>"
      ]
     },
     "metadata": {
      "needs_background": "light"
     },
     "output_type": "display_data"
    }
   ],
   "source": [
    "# let's create the cumulative distribution function for the random sample\n",
    "\n",
    "rm = sorted(sample_means)\n",
    "count = 0\n",
    "cdf_dict = {rm[0]: count}\n",
    "\n",
    "for i in range(1, len(rm)):\n",
    "    if rm[i] > rm[i-1]:\n",
    "        count += 1\n",
    "        cdf_dict[rm[i]] = count/len(rm)\n",
    "    else:\n",
    "        count += 1\n",
    "        \n",
    "plt.plot(list(cdf_dict.keys()), list(cdf_dict.values()))\n",
    "plt.title(\"CDF of Mean Sale Price of Illinois Homes\")\n",
    "plt.xlabel('Dollars($)')\n",
    "plt.ylabel('CDF')\n",
    "\n",
    "plt.plot()\n",
    "plt.show()"
   ]
  },
  {
   "cell_type": "code",
   "execution_count": 116,
   "metadata": {},
   "outputs": [
    {
     "data": {
      "text/plain": [
       "0.001"
      ]
     },
     "execution_count": 116,
     "metadata": {},
     "output_type": "execute_result"
    }
   ],
   "source": [
    "count = 0\n",
    "for mean in sample_means:\n",
    "    if mean >= sol_mean:\n",
    "        count += 1\n",
    "count/len(sample_means)"
   ]
  },
  {
   "cell_type": "markdown",
   "metadata": {},
   "source": [
    "## Hypothesis 2: New and existing homes with solar panel systems spend less time on the market than homes without.\n",
    "The second test is to compare the average market time, in days, of homes with solar panels to homes without. "
   ]
  },
  {
   "cell_type": "markdown",
   "metadata": {},
   "source": [
    "$$\\large H_0\\text{:   }\\bar{x} \\geq \\mu$$\n",
    "$$\\large H_a\\text{:   }\\bar{x} < \\mu$$"
   ]
  },
  {
   "cell_type": "code",
   "execution_count": 117,
   "metadata": {},
   "outputs": [
    {
     "data": {
      "text/plain": [
       "(2969, 10)"
      ]
     },
     "execution_count": 117,
     "metadata": {},
     "output_type": "execute_result"
    }
   ],
   "source": [
    "#removing outliers from Market Time; any times greater than 730 days/2 years.\n",
    "population_df2 = population_df[population_df['MT'] < 730]\n",
    "population_df2.shape"
   ]
  },
  {
   "cell_type": "code",
   "execution_count": 118,
   "metadata": {},
   "outputs": [
    {
     "data": {
      "text/plain": [
       "(56, 10)"
      ]
     },
     "execution_count": 118,
     "metadata": {},
     "output_type": "execute_result"
    }
   ],
   "source": [
    "#removing outliers from Market Time; any times greater than 730 days/2 years.\n",
    "with_df2 = with_df[with_df['MT'] < 730]\n",
    "with_df2.shape"
   ]
  },
  {
   "cell_type": "code",
   "execution_count": 119,
   "metadata": {},
   "outputs": [],
   "source": [
    "#population mean, var, and std\n",
    "pop2_mean = round(population_df2['MT'].mean(), ndigits=2)\n",
    "pop2_var = round(population_df2['MT'].var(), ndigits=2)\n",
    "pop2_std = round(population_df2['MT'].std(), ndigits=2)"
   ]
  },
  {
   "cell_type": "code",
   "execution_count": 120,
   "metadata": {},
   "outputs": [
    {
     "name": "stdout",
     "output_type": "stream",
     "text": [
      "Population Mean: 204.17\n",
      "Population Variance: 21111.65\n",
      "Population Standard Deviation: 145.3\n"
     ]
    }
   ],
   "source": [
    "print(f'Population Mean: {pop2_mean}')\n",
    "print(f'Population Variance: {pop2_var}')\n",
    "print(f'Population Standard Deviation: {pop2_std}')"
   ]
  },
  {
   "cell_type": "code",
   "execution_count": 121,
   "metadata": {},
   "outputs": [],
   "source": [
    "#population mean, var, and std\n",
    "sol2_mean = round(with_df2['MT'].mean(), ndigits=2)\n",
    "sol2_var = round(with_df2['MT'].var(), ndigits=2)\n",
    "sol2_std = round(with_df2['MT'].std(), ndigits=2)"
   ]
  },
  {
   "cell_type": "code",
   "execution_count": 122,
   "metadata": {},
   "outputs": [
    {
     "name": "stdout",
     "output_type": "stream",
     "text": [
      "Solar Mean: 86.38\n",
      "Solar Variance: 8827.51\n",
      "Solar Standard Deviation: 93.95\n"
     ]
    }
   ],
   "source": [
    "print(f'Solar Mean: {sol2_mean}')\n",
    "print(f'Solar Variance: {sol2_var}')\n",
    "print(f'Solar Standard Deviation: {sol2_std}')"
   ]
  },
  {
   "cell_type": "markdown",
   "metadata": {},
   "source": [
    "### Right Tailed Z-Test"
   ]
  },
  {
   "cell_type": "code",
   "execution_count": 123,
   "metadata": {},
   "outputs": [
    {
     "name": "stdout",
     "output_type": "stream",
     "text": [
      "Z Score: -6.066480710090881\n"
     ]
    }
   ],
   "source": [
    "z2 = (sol2_mean-pop2_mean)/(pop2_std/np.sqrt(56))\n",
    "print(f'Z Score: {z2}')"
   ]
  },
  {
   "cell_type": "code",
   "execution_count": 124,
   "metadata": {},
   "outputs": [
    {
     "name": "stdout",
     "output_type": "stream",
     "text": [
      "0.9999999993462829\n"
     ]
    }
   ],
   "source": [
    "p_value2 = stats.norm.sf(z2)\n",
    "alpha2 = 0.05\n",
    "print(p_value2)"
   ]
  },
  {
   "cell_type": "code",
   "execution_count": 125,
   "metadata": {},
   "outputs": [
    {
     "data": {
      "image/png": "[encoded data removed]",
      "text/plain": [
       "<Figure size 432x288 with 1 Axes>"
      ]
     },
     "metadata": {
      "needs_background": "light"
     },
     "output_type": "display_data"
    }
   ],
   "source": [
    "sns.distplot(population_df2['MT'], bins=100)\n",
    "plt.axvline(x=pop2_mean, color='red')\n",
    "plt.title(\"Population Distribution: Market Time of Illinois Homes\")\n",
    "plt.xlabel('Market Time (Days)')\n",
    "plt.ylabel('Frequency')\n",
    "plt.plot()\n",
    "plt.show()"
   ]
  },
  {
   "cell_type": "code",
   "execution_count": null,
   "metadata": {},
   "outputs": [],
   "source": []
  },
  {
   "cell_type": "code",
   "execution_count": null,
   "metadata": {},
   "outputs": [],
   "source": []
  },
  {
   "cell_type": "code",
   "execution_count": null,
   "metadata": {},
   "outputs": [],
   "source": []
  }
 ],
 "metadata": {
  "kernelspec": {
   "display_name": "Python 3",
   "language": "python",
   "name": "python3"
  },
  "language_info": {
   "codemirror_mode": {
    "name": "ipython",
    "version": 3
   },
   "file_extension": ".py",
   "mimetype": "text/x-python",
   "name": "python",
   "nbconvert_exporter": "python",
   "pygments_lexer": "ipython3",
   "version": "3.7.4"
  }
 },
 "nbformat": 4,
 "nbformat_minor": 4
}
