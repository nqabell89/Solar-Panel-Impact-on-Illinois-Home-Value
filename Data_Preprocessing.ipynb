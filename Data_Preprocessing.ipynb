{
 "cells": [
  {
   "cell_type": "markdown",
   "metadata": {},
   "source": [
    "## Data Cleaning and Wrangling - Solar Panel Housing CSVs\n",
    "This notebook contains data cleaning and wrangling for MLS housing data."
   ]
  },
  {
   "cell_type": "code",
   "execution_count": 52,
   "metadata": {},
   "outputs": [],
   "source": [
    "from scipy import stats\n",
    "import numpy as np\n",
    "import matplotlib.pyplot as plt\n",
    "%matplotlib inline\n",
    "import pandas as pd\n",
    "import seaborn as sns\n",
    "import random\n",
    "import pickle\n",
    "import warnings\n",
    "warnings.filterwarnings(\"ignore\")"
   ]
  },
  {
   "cell_type": "code",
   "execution_count": 53,
   "metadata": {},
   "outputs": [],
   "source": [
    "pop_df = pd.read_csv('~/data_science_projects/solar_panel_data/pop_sample_a.csv')"
   ]
  },
  {
   "cell_type": "code",
   "execution_count": 54,
   "metadata": {},
   "outputs": [],
   "source": [
    "pop_df.drop(columns=['Stat', 'CP', 'SP:LP', 'Elec Suppl', 'Closed Date',\n",
    "                     'Electricity', '% PCH - OLP', '% PCH - PLP'], inplace=True)"
   ]
  },
  {
   "cell_type": "code",
   "execution_count": 55,
   "metadata": {},
   "outputs": [],
   "source": [
    "pop_df.rename(columns={\"SP:OLP\": \"% SP:OLP\"}, inplace=True)"
   ]
  },
  {
   "cell_type": "code",
   "execution_count": 56,
   "metadata": {},
   "outputs": [],
   "source": [
    "def new_const(row):\n",
    "    if row['New Const'] == 'Yes':\n",
    "        return 1\n",
    "    else:\n",
    "        return 0\n",
    "pop_df['New'] = pop_df.apply(new_const, axis = 1)"
   ]
  },
  {
   "cell_type": "code",
   "execution_count": 57,
   "metadata": {},
   "outputs": [],
   "source": [
    "pop_df['SP:OLP'] = pop_df['Sold Pr']/pop_df['List Price']\n",
    "pop_df.drop(columns=['% SP:OLP', 'New Const'], inplace=True)"
   ]
  },
  {
   "cell_type": "code",
   "execution_count": 58,
   "metadata": {},
   "outputs": [],
   "source": [
    "pop_df.drop(index=[1281, 1614, 2046, 2632], inplace=True)"
   ]
  },
  {
   "cell_type": "code",
   "execution_count": 59,
   "metadata": {},
   "outputs": [],
   "source": [
    "solar_df1 = pd.read_csv('~/data_science_projects/solar_panel_data/solar_remarks.csv')"
   ]
  },
  {
   "cell_type": "code",
   "execution_count": 60,
   "metadata": {},
   "outputs": [],
   "source": [
    "def has_solar(row):\n",
    "    words = ['Photovoltaic', 'solar panel', 'solar panels', 'passive solar', 'solar system', 'solar energy']\n",
    "    if any(word in row['Remarks'] for word in words) == True:\n",
    "        return 1\n",
    "    else:\n",
    "        return 0\n",
    "solar_df1['has_solar'] = solar_df1.apply(has_solar, axis = 1)"
   ]
  },
  {
   "cell_type": "code",
   "execution_count": 61,
   "metadata": {},
   "outputs": [],
   "source": [
    "solar_df1 = solar_df1[solar_df1['has_solar'] == 1]"
   ]
  },
  {
   "cell_type": "code",
   "execution_count": 62,
   "metadata": {},
   "outputs": [],
   "source": [
    "solar_df2 = pd.read_csv('~/data_science_projects/solar_panel_data/solar_field.csv')"
   ]
  },
  {
   "cell_type": "code",
   "execution_count": 63,
   "metadata": {},
   "outputs": [],
   "source": [
    "solar_df = solar_df1.append(solar_df2, ignore_index=True)"
   ]
  },
  {
   "cell_type": "code",
   "execution_count": 64,
   "metadata": {},
   "outputs": [],
   "source": [
    "solar_df.drop_duplicates(subset=['MLS #'], inplace=True)"
   ]
  },
  {
   "cell_type": "code",
   "execution_count": 65,
   "metadata": {},
   "outputs": [],
   "source": [
    "solar_df.drop(columns=['Stat', 'CP', 'SP:LP', 'Elec Suppl',\n",
    "                       'Closed Date', 'Electricity', '% PCH - OLP',\n",
    "                       '% PCH - PLP', 'has_solar'], inplace=True)"
   ]
  },
  {
   "cell_type": "code",
   "execution_count": 66,
   "metadata": {},
   "outputs": [],
   "source": [
    "solar_df.rename(columns={\"SP:OLP\": \"% SP:OLP\"}, inplace=True)"
   ]
  },
  {
   "cell_type": "code",
   "execution_count": 67,
   "metadata": {},
   "outputs": [],
   "source": [
    "def new_const(row):\n",
    "    if row['New Const'] == 'Yes':\n",
    "        return 1\n",
    "    else:\n",
    "        return 0\n",
    "solar_df['New'] = solar_df.apply(new_const, axis = 1)"
   ]
  },
  {
   "cell_type": "code",
   "execution_count": 68,
   "metadata": {},
   "outputs": [
    {
     "data": {
      "text/html": [
       "<div>\n",
       "<style scoped>\n",
       "    .dataframe tbody tr th:only-of-type {\n",
       "        vertical-align: middle;\n",
       "    }\n",
       "\n",
       "    .dataframe tbody tr th {\n",
       "        vertical-align: top;\n",
       "    }\n",
       "\n",
       "    .dataframe thead th {\n",
       "        text-align: right;\n",
       "    }\n",
       "</style>\n",
       "<table border=\"1\" class=\"dataframe\">\n",
       "  <thead>\n",
       "    <tr style=\"text-align: right;\">\n",
       "      <th></th>\n",
       "      <th>City</th>\n",
       "      <th>Green Features</th>\n",
       "      <th>List Price</th>\n",
       "      <th>MLS #</th>\n",
       "      <th>MT</th>\n",
       "      <th>Remarks</th>\n",
       "      <th>Sold Pr</th>\n",
       "      <th>New</th>\n",
       "      <th>SP:OLP</th>\n",
       "    </tr>\n",
       "  </thead>\n",
       "  <tbody>\n",
       "    <tr>\n",
       "      <td>0</td>\n",
       "      <td>Champaign</td>\n",
       "      <td>NaN</td>\n",
       "      <td>129900</td>\n",
       "      <td>9639898</td>\n",
       "      <td>319</td>\n",
       "      <td>Wonderful home on double lot in south Champaig...</td>\n",
       "      <td>124000</td>\n",
       "      <td>0</td>\n",
       "      <td>0.95458</td>\n",
       "    </tr>\n",
       "  </tbody>\n",
       "</table>\n",
       "</div>"
      ],
      "text/plain": [
       "        City Green Features  List Price    MLS #   MT  \\\n",
       "0  Champaign            NaN      129900  9639898  319   \n",
       "\n",
       "                                             Remarks  Sold Pr  New   SP:OLP  \n",
       "0  Wonderful home on double lot in south Champaig...   124000    0  0.95458  "
      ]
     },
     "execution_count": 68,
     "metadata": {},
     "output_type": "execute_result"
    }
   ],
   "source": [
    "solar_df['SP:OLP'] = solar_df['Sold Pr']/solar_df['List Price']\n",
    "solar_df.drop(columns=['% SP:OLP', 'New Const'], inplace=True)\n",
    "solar_df.head(1)"
   ]
  },
  {
   "cell_type": "code",
   "execution_count": 69,
   "metadata": {},
   "outputs": [],
   "source": [
    "pop_df.to_pickle(\"./witho_df.pkl\")"
   ]
  },
  {
   "cell_type": "markdown",
   "metadata": {},
   "source": [
    "*hypothesis testing\n",
    "*calculate cohen's d \n",
    "*z-test, t-test\n",
    "*p value, accuracy\n",
    "*result of hypothesis\n",
    "*"
   ]
  },
  {
   "cell_type": "code",
   "execution_count": 70,
   "metadata": {},
   "outputs": [],
   "source": [
    "solar_df.to_pickle(\"./with_df.pkl\")"
   ]
  },
  {
   "cell_type": "code",
   "execution_count": null,
   "metadata": {},
   "outputs": [],
   "source": []
  }
 ],
 "metadata": {
  "kernelspec": {
   "display_name": "Python 3",
   "language": "python",
   "name": "python3"
  },
  "language_info": {
   "codemirror_mode": {
    "name": "ipython",
    "version": 3
   },
   "file_extension": ".py",
   "mimetype": "text/x-python",
   "name": "python",
   "nbconvert_exporter": "python",
   "pygments_lexer": "ipython3",
   "version": "3.7.4"
  }
 },
 "nbformat": 4,
 "nbformat_minor": 4
}
