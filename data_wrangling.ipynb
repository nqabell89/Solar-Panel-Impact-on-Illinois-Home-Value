{
 "cells": [
  {
   "cell_type": "markdown",
   "metadata": {},
   "source": [
    "## Data Cleaning and Wrangling - Solar Panel Housing CSVs\n",
    "This notebook contains data cleaning and wrangling for MLS housing data."
   ]
  },
  {
   "cell_type": "code",
   "execution_count": 1,
   "metadata": {},
   "outputs": [],
   "source": [
    "from scipy import stats\n",
    "import numpy as np\n",
    "import matplotlib.pyplot as plt\n",
    "%matplotlib inline\n",
    "import pandas as pd\n",
    "import seaborn as sns\n",
    "import random\n",
    "import pickle\n",
    "import warnings\n",
    "warnings.filterwarnings(\"ignore\")"
   ]
  },
  {
   "cell_type": "code",
   "execution_count": 2,
   "metadata": {},
   "outputs": [],
   "source": [
    "pop_df = pd.read_csv('~/data_science_projects/solar_panel_data/pop_sample_a.csv')"
   ]
  },
  {
   "cell_type": "code",
   "execution_count": 3,
   "metadata": {},
   "outputs": [],
   "source": [
    "pop_df.drop(columns=['Stat', 'CP', 'SP:LP', 'Elec Suppl', 'Closed Date',\n",
    "                     'Electricity', '% PCH - OLP', '% PCH - PLP'], inplace=True)"
   ]
  },
  {
   "cell_type": "code",
   "execution_count": 4,
   "metadata": {},
   "outputs": [],
   "source": [
    "pop_df.drop(index=[1614, 2046], inplace=True)"
   ]
  },
  {
   "cell_type": "code",
   "execution_count": 5,
   "metadata": {},
   "outputs": [],
   "source": [
    "pop_df.rename(columns={\"SP:OLP\": \"% SP:OLP\"}, inplace=True)"
   ]
  },
  {
   "cell_type": "code",
   "execution_count": 6,
   "metadata": {},
   "outputs": [],
   "source": [
    "pop_df['% SP:OLP'] = pop_df['% SP:OLP'].map(lambda x: x.replace('%', ''))\n",
    "pop_df['% SP:OLP'] = pop_df['% SP:OLP'].astype(int)"
   ]
  },
  {
   "cell_type": "code",
   "execution_count": 7,
   "metadata": {},
   "outputs": [],
   "source": [
    "def new_const(row):\n",
    "    if row['New Const'] == 'Yes':\n",
    "        return 1\n",
    "    else:\n",
    "        return 0\n",
    "pop_df['New'] = pop_df.apply(new_const, axis = 1)"
   ]
  },
  {
   "cell_type": "code",
   "execution_count": 8,
   "metadata": {},
   "outputs": [],
   "source": [
    "solar_df1 = pd.read_csv('~/data_science_projects/solar_panel_data/solar_remarks.csv')"
   ]
  },
  {
   "cell_type": "code",
   "execution_count": 9,
   "metadata": {},
   "outputs": [],
   "source": [
    "def has_solar(row):\n",
    "    words = ['Photovoltaic', 'solar panel', 'solar panels', 'passive solar', 'solar system', 'solar energy']\n",
    "    if any(word in row['Remarks'] for word in words) == True:\n",
    "        return 1\n",
    "    else:\n",
    "        return 0\n",
    "solar_df1['has_solar'] = solar_df1.apply(has_solar, axis = 1)"
   ]
  },
  {
   "cell_type": "code",
   "execution_count": 10,
   "metadata": {},
   "outputs": [],
   "source": [
    "solar_df1 = solar_df1[solar_df1['has_solar'] == 1]"
   ]
  },
  {
   "cell_type": "code",
   "execution_count": 11,
   "metadata": {},
   "outputs": [],
   "source": [
    "solar_df2 = pd.read_csv('~/data_science_projects/solar_panel_data/solar_field.csv')"
   ]
  },
  {
   "cell_type": "code",
   "execution_count": 12,
   "metadata": {},
   "outputs": [],
   "source": [
    "solar_df = solar_df1.append(solar_df2, ignore_index=True)"
   ]
  },
  {
   "cell_type": "code",
   "execution_count": 13,
   "metadata": {},
   "outputs": [],
   "source": [
    "solar_df.drop_duplicates(subset=['MLS #'], inplace=True)"
   ]
  },
  {
   "cell_type": "code",
   "execution_count": 14,
   "metadata": {},
   "outputs": [],
   "source": [
    "solar_df.drop(columns=['Stat', 'CP', 'SP:LP', 'Elec Suppl',\n",
    "                       'Closed Date', 'Electricity', '% PCH - OLP',\n",
    "                       '% PCH - PLP', 'has_solar'], inplace=True)"
   ]
  },
  {
   "cell_type": "code",
   "execution_count": 15,
   "metadata": {},
   "outputs": [],
   "source": [
    "solar_df.rename(columns={\"SP:OLP\": \"% SP:OLP\"}, inplace=True)"
   ]
  },
  {
   "cell_type": "code",
   "execution_count": 16,
   "metadata": {},
   "outputs": [],
   "source": [
    "solar_df['% SP:OLP'] = solar_df['% SP:OLP'].map(lambda x: x.replace('%', ''))\n",
    "solar_df['% SP:OLP'] = solar_df['% SP:OLP'].astype(int)"
   ]
  },
  {
   "cell_type": "code",
   "execution_count": 17,
   "metadata": {},
   "outputs": [],
   "source": [
    "def new_const(row):\n",
    "    if row['New Const'] == 'Yes':\n",
    "        return 1\n",
    "    else:\n",
    "        return 0\n",
    "solar_df['New'] = solar_df.apply(new_const, axis = 1)"
   ]
  },
  {
   "cell_type": "code",
   "execution_count": 18,
   "metadata": {},
   "outputs": [],
   "source": [
    "pop_df.to_pickle(\"./witho_df.pkl\")"
   ]
  },
  {
   "cell_type": "markdown",
   "metadata": {},
   "source": [
    "*hypothesis testing\n",
    "*calculate cohen's d \n",
    "*z-test, t-test\n",
    "*p value, accuracy\n",
    "*result of hypothesis\n",
    "*"
   ]
  },
  {
   "cell_type": "code",
   "execution_count": 19,
   "metadata": {},
   "outputs": [],
   "source": [
    "solar_df.to_pickle(\"./with_df.pkl\")"
   ]
  },
  {
   "cell_type": "code",
   "execution_count": null,
   "metadata": {},
   "outputs": [],
   "source": []
  },
  {
   "cell_type": "code",
   "execution_count": null,
   "metadata": {},
   "outputs": [],
   "source": []
  },
  {
   "cell_type": "code",
   "execution_count": null,
   "metadata": {},
   "outputs": [],
   "source": []
  }
 ],
 "metadata": {
  "kernelspec": {
   "display_name": "Python 3",
   "language": "python",
   "name": "python3"
  },
  "language_info": {
   "codemirror_mode": {
    "name": "ipython",
    "version": 3
   },
   "file_extension": ".py",
   "mimetype": "text/x-python",
   "name": "python",
   "nbconvert_exporter": "python",
   "pygments_lexer": "ipython3",
   "version": "3.7.4"
  }
 },
 "nbformat": 4,
 "nbformat_minor": 4
}
